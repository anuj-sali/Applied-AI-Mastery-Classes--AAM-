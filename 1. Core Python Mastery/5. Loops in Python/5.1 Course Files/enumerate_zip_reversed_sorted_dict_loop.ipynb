{
 "cells": [
  {
   "cell_type": "code",
   "execution_count": 5,
   "id": "287476e3",
   "metadata": {},
   "outputs": [
    {
     "data": {
      "text/plain": [
       "<enumerate at 0x1c3fce95300>"
      ]
     },
     "execution_count": 5,
     "metadata": {},
     "output_type": "execute_result"
    }
   ],
   "source": [
    "enumerate(\"euron\")"
   ]
  },
  {
   "cell_type": "code",
   "execution_count": 6,
   "id": "0f76ecda",
   "metadata": {},
   "outputs": [
    {
     "data": {
      "text/plain": [
       "[(0, 'e'), (1, 'u'), (2, 'r'), (3, 'o'), (4, 'n')]"
      ]
     },
     "execution_count": 6,
     "metadata": {},
     "output_type": "execute_result"
    }
   ],
   "source": [
    "list(enumerate(\"euron\"))"
   ]
  },
  {
   "cell_type": "code",
   "execution_count": 7,
   "id": "19dcc023",
   "metadata": {},
   "outputs": [
    {
     "name": "stdout",
     "output_type": "stream",
     "text": [
      "(0, 'e')\n",
      "(1, 'u')\n",
      "(2, 'r')\n",
      "(3, 'o')\n",
      "(4, 'n')\n"
     ]
    }
   ],
   "source": [
    "for  i in enumerate(\"euron\"):\n",
    "    print(i)"
   ]
  },
  {
   "cell_type": "code",
   "execution_count": 9,
   "id": "607e7e4a",
   "metadata": {},
   "outputs": [
    {
     "name": "stdout",
     "output_type": "stream",
     "text": [
      "0 e\n",
      "1 u\n",
      "2 r\n",
      "3 o\n",
      "4 n\n"
     ]
    }
   ],
   "source": [
    "for  index , data in enumerate(\"euron\"):\n",
    "    print(index,data)"
   ]
  },
  {
   "cell_type": "code",
   "execution_count": 15,
   "id": "d55706c5",
   "metadata": {},
   "outputs": [],
   "source": [
    "l = [1,2,3,4]\n",
    "l1 = [\"sudh\",\"kumar\",\"euron\"]\n",
    "l2 = [5,6,7]"
   ]
  },
  {
   "cell_type": "code",
   "execution_count": 16,
   "id": "533c4f76",
   "metadata": {},
   "outputs": [
    {
     "data": {
      "text/plain": [
       "[(1, 'sudh', 5), (2, 'kumar', 6), (3, 'euron', 7)]"
      ]
     },
     "execution_count": 16,
     "metadata": {},
     "output_type": "execute_result"
    }
   ],
   "source": [
    "list(zip(l,l1,l2))"
   ]
  },
  {
   "cell_type": "code",
   "execution_count": 18,
   "id": "e94c64bc",
   "metadata": {},
   "outputs": [
    {
     "data": {
      "text/plain": [
       "['h', 'd', 'u', 's']"
      ]
     },
     "execution_count": 18,
     "metadata": {},
     "output_type": "execute_result"
    }
   ],
   "source": [
    "list(reversed(\"sudh\"))"
   ]
  },
  {
   "cell_type": "code",
   "execution_count": 20,
   "id": "5679d814",
   "metadata": {},
   "outputs": [
    {
     "data": {
      "text/plain": [
       "[4, 3, 2, 1]"
      ]
     },
     "execution_count": 20,
     "metadata": {},
     "output_type": "execute_result"
    }
   ],
   "source": [
    "sorted([3,4,1,2],reverse = True)"
   ]
  },
  {
   "cell_type": "code",
   "execution_count": 21,
   "id": "b889cd94",
   "metadata": {},
   "outputs": [],
   "source": [
    "d ={\"name\":\"sudhanshu\",\"comapany\":\"euron\",\"subject\":[\"data\",\"ops\",\"dsa\"]}"
   ]
  },
  {
   "cell_type": "code",
   "execution_count": 23,
   "id": "91d78546",
   "metadata": {},
   "outputs": [
    {
     "name": "stdout",
     "output_type": "stream",
     "text": [
      "('name', 'sudhanshu')\n",
      "('comapany', 'euron')\n",
      "('subject', ['data', 'ops', 'dsa'])\n"
     ]
    }
   ],
   "source": [
    "for i in d.items():\n",
    "    print(i)"
   ]
  },
  {
   "cell_type": "code",
   "execution_count": null,
   "id": "1c4adb31",
   "metadata": {},
   "outputs": [],
   "source": []
  }
 ],
 "metadata": {
  "kernelspec": {
   "display_name": "agentdemo",
   "language": "python",
   "name": "python3"
  },
  "language_info": {
   "codemirror_mode": {
    "name": "ipython",
    "version": 3
   },
   "file_extension": ".py",
   "mimetype": "text/x-python",
   "name": "python",
   "nbconvert_exporter": "python",
   "pygments_lexer": "ipython3",
   "version": "3.11.11"
  }
 },
 "nbformat": 4,
 "nbformat_minor": 5
}
