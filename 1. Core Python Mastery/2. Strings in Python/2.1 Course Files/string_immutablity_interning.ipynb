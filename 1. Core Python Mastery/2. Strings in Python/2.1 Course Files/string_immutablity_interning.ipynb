{
 "cells": [
  {
   "cell_type": "code",
   "execution_count": 1,
   "id": "052dee59",
   "metadata": {},
   "outputs": [],
   "source": [
    "s = \"sudhanshu\""
   ]
  },
  {
   "cell_type": "code",
   "execution_count": 2,
   "id": "7da36b3f",
   "metadata": {},
   "outputs": [
    {
     "data": {
      "text/plain": [
       "1618223082864"
      ]
     },
     "execution_count": 2,
     "metadata": {},
     "output_type": "execute_result"
    }
   ],
   "source": [
    "id(s)"
   ]
  },
  {
   "cell_type": "code",
   "execution_count": 3,
   "id": "ff6ef44f",
   "metadata": {},
   "outputs": [],
   "source": [
    "modify = s + \"kumar\""
   ]
  },
  {
   "cell_type": "code",
   "execution_count": 4,
   "id": "71df365a",
   "metadata": {},
   "outputs": [
    {
     "data": {
      "text/plain": [
       "1618222878640"
      ]
     },
     "execution_count": 4,
     "metadata": {},
     "output_type": "execute_result"
    }
   ],
   "source": [
    "id(modify)"
   ]
  },
  {
   "cell_type": "code",
   "execution_count": 5,
   "id": "0dfbd0d5",
   "metadata": {},
   "outputs": [],
   "source": [
    "s = s + \"kumar\""
   ]
  },
  {
   "cell_type": "code",
   "execution_count": 6,
   "id": "5ff6522a",
   "metadata": {},
   "outputs": [
    {
     "data": {
      "text/plain": [
       "1618201954864"
      ]
     },
     "execution_count": 6,
     "metadata": {},
     "output_type": "execute_result"
    }
   ],
   "source": [
    "id(s)"
   ]
  },
  {
   "cell_type": "code",
   "execution_count": 11,
   "id": "6d08a0b6",
   "metadata": {},
   "outputs": [
    {
     "data": {
      "text/plain": [
       "1618229327920"
      ]
     },
     "execution_count": 11,
     "metadata": {},
     "output_type": "execute_result"
    }
   ],
   "source": [
    "s = \"euron\"\n",
    "id(s)"
   ]
  },
  {
   "cell_type": "code",
   "execution_count": 9,
   "id": "101cdc80",
   "metadata": {},
   "outputs": [
    {
     "ename": "TypeError",
     "evalue": "'str' object does not support item assignment",
     "output_type": "error",
     "traceback": [
      "\u001b[31m---------------------------------------------------------------------------\u001b[39m",
      "\u001b[31mTypeError\u001b[39m                                 Traceback (most recent call last)",
      "\u001b[36mCell\u001b[39m\u001b[36m \u001b[39m\u001b[32mIn[9]\u001b[39m\u001b[32m, line 1\u001b[39m\n\u001b[32m----> \u001b[39m\u001b[32m1\u001b[39m \u001b[43ms\u001b[49m\u001b[43m[\u001b[49m\u001b[32;43m0\u001b[39;49m\u001b[43m]\u001b[49m = \u001b[33m\"\u001b[39m\u001b[33ms\u001b[39m\u001b[33m\"\u001b[39m\n",
      "\u001b[31mTypeError\u001b[39m: 'str' object does not support item assignment"
     ]
    }
   ],
   "source": [
    "s[0] = \"s\""
   ]
  },
  {
   "cell_type": "code",
   "execution_count": 12,
   "id": "7e07ec72",
   "metadata": {},
   "outputs": [
    {
     "data": {
      "text/plain": [
       "1618202095088"
      ]
     },
     "execution_count": 12,
     "metadata": {},
     "output_type": "execute_result"
    }
   ],
   "source": [
    "s = \"suron\"\n",
    "id(s)"
   ]
  },
  {
   "cell_type": "code",
   "execution_count": 13,
   "id": "e35ca2c5",
   "metadata": {},
   "outputs": [],
   "source": [
    "a = \"euron\"\n",
    "b = \"euron\"\n"
   ]
  },
  {
   "cell_type": "code",
   "execution_count": 14,
   "id": "2f9f9f13",
   "metadata": {},
   "outputs": [
    {
     "data": {
      "text/plain": [
       "1618229061744"
      ]
     },
     "execution_count": 14,
     "metadata": {},
     "output_type": "execute_result"
    }
   ],
   "source": [
    "id(a)"
   ]
  },
  {
   "cell_type": "code",
   "execution_count": 15,
   "id": "71297551",
   "metadata": {},
   "outputs": [
    {
     "data": {
      "text/plain": [
       "1618229061744"
      ]
     },
     "execution_count": 15,
     "metadata": {},
     "output_type": "execute_result"
    }
   ],
   "source": [
    "id(b)"
   ]
  },
  {
   "cell_type": "code",
   "execution_count": 18,
   "id": "ae17221a",
   "metadata": {},
   "outputs": [
    {
     "data": {
      "text/plain": [
       "'sudhanshu'"
      ]
     },
     "execution_count": 18,
     "metadata": {},
     "output_type": "execute_result"
    }
   ],
   "source": [
    "c = \"sudh\" + \"anshu\"\n",
    "c"
   ]
  },
  {
   "cell_type": "code",
   "execution_count": 19,
   "id": "209ce265",
   "metadata": {},
   "outputs": [
    {
     "data": {
      "text/plain": [
       "'sudhanshu'"
      ]
     },
     "execution_count": 19,
     "metadata": {},
     "output_type": "execute_result"
    }
   ],
   "source": [
    "d = \"sudhanshu\"\n",
    "d"
   ]
  },
  {
   "cell_type": "code",
   "execution_count": 20,
   "id": "a2870a9a",
   "metadata": {},
   "outputs": [
    {
     "data": {
      "text/plain": [
       "1618229157616"
      ]
     },
     "execution_count": 20,
     "metadata": {},
     "output_type": "execute_result"
    }
   ],
   "source": [
    "id(c)"
   ]
  },
  {
   "cell_type": "code",
   "execution_count": 21,
   "id": "af00dfa7",
   "metadata": {},
   "outputs": [
    {
     "data": {
      "text/plain": [
       "1618229157616"
      ]
     },
     "execution_count": 21,
     "metadata": {},
     "output_type": "execute_result"
    }
   ],
   "source": [
    "id(d)"
   ]
  },
  {
   "cell_type": "code",
   "execution_count": null,
   "id": "dfa509e3",
   "metadata": {},
   "outputs": [],
   "source": []
  }
 ],
 "metadata": {
  "kernelspec": {
   "display_name": "agentdemo",
   "language": "python",
   "name": "python3"
  },
  "language_info": {
   "codemirror_mode": {
    "name": "ipython",
    "version": 3
   },
   "file_extension": ".py",
   "mimetype": "text/x-python",
   "name": "python",
   "nbconvert_exporter": "python",
   "pygments_lexer": "ipython3",
   "version": "3.11.11"
  }
 },
 "nbformat": 4,
 "nbformat_minor": 5
}
