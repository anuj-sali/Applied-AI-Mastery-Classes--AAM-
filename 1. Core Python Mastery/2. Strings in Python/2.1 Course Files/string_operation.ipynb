{
 "cells": [
  {
   "cell_type": "code",
   "execution_count": 58,
   "id": "8084ce94",
   "metadata": {},
   "outputs": [
    {
     "name": "stdout",
     "output_type": "stream",
     "text": [
      "my name is sudhanshu \n",
      "i use to teach \n",
      "data\n"
     ]
    }
   ],
   "source": [
    "print(\"my name is sudhanshu \\ni use to teach \\ndata\")"
   ]
  },
  {
   "cell_type": "code",
   "execution_count": 59,
   "id": "ae933071",
   "metadata": {},
   "outputs": [
    {
     "name": "stdout",
     "output_type": "stream",
     "text": [
      "my name is sudhanshu \ti use to teach \tdata\n"
     ]
    }
   ],
   "source": [
    "print(\"my name is sudhanshu \\ti use to teach \\tdata\")"
   ]
  },
  {
   "cell_type": "code",
   "execution_count": 60,
   "id": "3a44f181",
   "metadata": {},
   "outputs": [
    {
     "name": "stdout",
     "output_type": "stream",
     "text": [
      "\\\n"
     ]
    }
   ],
   "source": [
    "print(\"\\\\\")"
   ]
  },
  {
   "cell_type": "code",
   "execution_count": 63,
   "id": "849b5758",
   "metadata": {},
   "outputs": [
    {
     "ename": "SyntaxError",
     "evalue": "(unicode error) 'unicodeescape' codec can't decode bytes in position 2-3: truncated \\UXXXXXXXX escape (2517376580.py, line 1)",
     "output_type": "error",
     "traceback": [
      "  \u001b[36mCell\u001b[39m\u001b[36m \u001b[39m\u001b[32mIn[63]\u001b[39m\u001b[32m, line 1\u001b[39m\n\u001b[31m    \u001b[39m\u001b[31mraw_data = \"C:\\Users\\Sudhanshu\\Desktop\\python\"\u001b[39m\n                                                  ^\n\u001b[31mSyntaxError\u001b[39m\u001b[31m:\u001b[39m (unicode error) 'unicodeescape' codec can't decode bytes in position 2-3: truncated \\UXXXXXXXX escape\n"
     ]
    }
   ],
   "source": [
    "raw_data = \"C:\\Users\\Sudhanshu\\Desktop\\python\"\n",
    "print(raw_data)"
   ]
  },
  {
   "cell_type": "code",
   "execution_count": 62,
   "id": "adaca600",
   "metadata": {},
   "outputs": [
    {
     "name": "stdout",
     "output_type": "stream",
     "text": [
      "C:\\Users\\Sudhanshu\\Desktop\\python\n"
     ]
    }
   ],
   "source": [
    "raw_data = r\"C:\\Users\\Sudhanshu\\Desktop\\python\"\n",
    "print(raw_data)"
   ]
  },
  {
   "cell_type": "code",
   "execution_count": 64,
   "id": "5571f6e0",
   "metadata": {},
   "outputs": [
    {
     "name": "stdout",
     "output_type": "stream",
     "text": [
      "C:\\Users\\Sudhanshu\\Desktop\\python\n"
     ]
    }
   ],
   "source": [
    "raw_data = \"C:\\\\Users\\\\Sudhanshu\\\\Desktop\\\\python\"\n",
    "print(raw_data)"
   ]
  },
  {
   "cell_type": "code",
   "execution_count": 75,
   "id": "aa745856",
   "metadata": {},
   "outputs": [
    {
     "name": "stdout",
     "output_type": "stream",
     "text": [
      "ὤ3\n"
     ]
    }
   ],
   "source": [
    "print(\"\\u1F643\")"
   ]
  },
  {
   "cell_type": "code",
   "execution_count": 68,
   "id": "daeb99c2",
   "metadata": {},
   "outputs": [
    {
     "name": "stdout",
     "output_type": "stream",
     "text": [
      "©\n"
     ]
    }
   ],
   "source": [
    "print(\"\\u00A9\") "
   ]
  },
  {
   "cell_type": "code",
   "execution_count": 69,
   "id": "6802b8e0",
   "metadata": {},
   "outputs": [
    {
     "name": "stdout",
     "output_type": "stream",
     "text": [
      "Δ\n"
     ]
    }
   ],
   "source": [
    "print(\"\\N{GREEK CAPITAL LETTER DELTA}\")  "
   ]
  },
  {
   "cell_type": "code",
   "execution_count": 70,
   "id": "2ca33fda",
   "metadata": {},
   "outputs": [
    {
     "name": "stdout",
     "output_type": "stream",
     "text": [
      "☃\n"
     ]
    }
   ],
   "source": [
    "print(\"\\N{SNOWMAN}\") "
   ]
  },
  {
   "cell_type": "code",
   "execution_count": 76,
   "id": "3cb7282a",
   "metadata": {},
   "outputs": [
    {
     "name": "stdout",
     "output_type": "stream",
     "text": [
      "☺\n"
     ]
    }
   ],
   "source": [
    "\n",
    "print(\"\\u263A\") "
   ]
  },
  {
   "cell_type": "code",
   "execution_count": 78,
   "id": "fab7be35",
   "metadata": {},
   "outputs": [
    {
     "data": {
      "text/plain": [
       "'my name is sudhanshu\\ni use to work for euron\\ni use to teach data'"
      ]
     },
     "execution_count": 78,
     "metadata": {},
     "output_type": "execute_result"
    }
   ],
   "source": [
    "\"\"\"my name is sudhanshu\n",
    "i use to work for euron\n",
    "i use to teach data\"\"\""
   ]
  },
  {
   "cell_type": "code",
   "execution_count": 85,
   "id": "d3874276",
   "metadata": {},
   "outputs": [
    {
     "data": {
      "text/plain": [
       "'my name is sudhanshui use to work for euroni use to teach data'"
      ]
     },
     "execution_count": 85,
     "metadata": {},
     "output_type": "execute_result"
    }
   ],
   "source": [
    "\"my name is sudhanshu\"\\\n",
    "\"i use to work for euron\"\\\n",
    "    \"i use to teach data\""
   ]
  },
  {
   "cell_type": "code",
   "execution_count": 94,
   "id": "7248a258",
   "metadata": {},
   "outputs": [
    {
     "name": "stdout",
     "output_type": "stream",
     "text": [
      "my name is sudh my age is 32 and my phone number is 1234567890\n"
     ]
    }
   ],
   "source": [
    "name = input(\"enter your name\")\n",
    "age = int(input(\"enter your age\"))\n",
    "phone = 1234567890\n",
    "\n",
    "print(f\"my name is {name} my age is {age} and my phone number is {phone}\") "
   ]
  },
  {
   "cell_type": "code",
   "execution_count": 97,
   "id": "85acc787",
   "metadata": {},
   "outputs": [
    {
     "name": "stdout",
     "output_type": "stream",
     "text": [
      "my name is 32 my age is sudh\n"
     ]
    }
   ],
   "source": [
    "print(\"my name is {} my age is {}\".format(age, name))"
   ]
  },
  {
   "cell_type": "code",
   "execution_count": 98,
   "id": "0c6ae19f",
   "metadata": {},
   "outputs": [
    {
     "name": "stdout",
     "output_type": "stream",
     "text": [
      "my name is sudh my age is 32\n"
     ]
    }
   ],
   "source": [
    "print(\"my name is {n} my age is {a}\".format(a =age, n = name))"
   ]
  },
  {
   "cell_type": "code",
   "execution_count": 99,
   "id": "0e9e0c25",
   "metadata": {},
   "outputs": [],
   "source": [
    "from string import Template"
   ]
  },
  {
   "cell_type": "code",
   "execution_count": 101,
   "id": "523bd096",
   "metadata": {},
   "outputs": [
    {
     "data": {
      "text/plain": [
       "'my name is sudh my age is 34'"
      ]
     },
     "execution_count": 101,
     "metadata": {},
     "output_type": "execute_result"
    }
   ],
   "source": [
    "Template(\"my name is $name my age is $age\").substitute(name = name, age = 34\n",
    "                                                       )"
   ]
  },
  {
   "cell_type": "code",
   "execution_count": 102,
   "id": "e4b86b0e",
   "metadata": {},
   "outputs": [],
   "source": [
    "email_template = Template(\"\"\"\n",
    "                          From:$sender\n",
    "                          To:$receiver\n",
    "                            Subject:$subject\n",
    "                            $body\n",
    "                          \"\"\")"
   ]
  },
  {
   "cell_type": "code",
   "execution_count": 104,
   "id": "6602975e",
   "metadata": {},
   "outputs": [
    {
     "data": {
      "text/plain": [
       "'\\n                          From:sudhans@euron.one\\n                          To:sskuamr@gmail.com\\n                            Subject:test mail\\n                            this is a test mail\\n                          '"
      ]
     },
     "execution_count": 104,
     "metadata": {},
     "output_type": "execute_result"
    }
   ],
   "source": [
    "email_template.substitute(sender = input(\"enter a serder information\"),receiver=\"sskuamr@gmail.com\",\n",
    "                          subject=\"test mail\",body=\"this is a test mail\")"
   ]
  },
  {
   "cell_type": "code",
   "execution_count": null,
   "id": "469b5573",
   "metadata": {},
   "outputs": [],
   "source": []
  }
 ],
 "metadata": {
  "kernelspec": {
   "display_name": "agentdemo",
   "language": "python",
   "name": "python3"
  },
  "language_info": {
   "codemirror_mode": {
    "name": "ipython",
    "version": 3
   },
   "file_extension": ".py",
   "mimetype": "text/x-python",
   "name": "python",
   "nbconvert_exporter": "python",
   "pygments_lexer": "ipython3",
   "version": "3.11.11"
  }
 },
 "nbformat": 4,
 "nbformat_minor": 5
}
