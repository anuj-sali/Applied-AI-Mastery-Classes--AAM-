{
 "cells": [
  {
   "cell_type": "code",
   "execution_count": 2,
   "id": "3ed13ffa",
   "metadata": {},
   "outputs": [],
   "source": [
    "def add(a,b):\n",
    "    return a+b"
   ]
  },
  {
   "cell_type": "code",
   "execution_count": 3,
   "id": "ef6f4662",
   "metadata": {},
   "outputs": [
    {
     "data": {
      "text/plain": [
       "11"
      ]
     },
     "execution_count": 3,
     "metadata": {},
     "output_type": "execute_result"
    }
   ],
   "source": [
    "add(5,6)"
   ]
  },
  {
   "cell_type": "code",
   "execution_count": 6,
   "id": "7db7fb39",
   "metadata": {},
   "outputs": [],
   "source": [
    "def add(*args):\n",
    "    print(args)"
   ]
  },
  {
   "cell_type": "code",
   "execution_count": 7,
   "id": "48869cf2",
   "metadata": {},
   "outputs": [
    {
     "name": "stdout",
     "output_type": "stream",
     "text": [
      "(4, 5, 6, 7, 8, 8, 9)\n"
     ]
    }
   ],
   "source": [
    "add(4,5,6,7,8,8,9)"
   ]
  },
  {
   "cell_type": "code",
   "execution_count": 9,
   "id": "8de48214",
   "metadata": {},
   "outputs": [
    {
     "name": "stdout",
     "output_type": "stream",
     "text": [
      "(4, 5, 6, 7, 7, 8, 9, 0)\n"
     ]
    }
   ],
   "source": [
    "add(4,5,6,7,7,8,9,0)"
   ]
  },
  {
   "cell_type": "code",
   "execution_count": 10,
   "id": "a83e7a86",
   "metadata": {},
   "outputs": [],
   "source": [
    "def add(*euron):\n",
    "    print(euron)"
   ]
  },
  {
   "cell_type": "code",
   "execution_count": 12,
   "id": "b651f760",
   "metadata": {},
   "outputs": [
    {
     "name": "stdout",
     "output_type": "stream",
     "text": [
      "(5, 6, 7, 8, 9, 0, 4, 45)\n"
     ]
    }
   ],
   "source": [
    "add(5,6,7,8,9,0,4,45)"
   ]
  },
  {
   "cell_type": "code",
   "execution_count": 13,
   "id": "aa3b0975",
   "metadata": {},
   "outputs": [],
   "source": [
    "def add(*sudh):\n",
    "    print(sudh)\n",
    "    j = 0 \n",
    "    for i in sudh:\n",
    "        j = j+i\n",
    "    return j "
   ]
  },
  {
   "cell_type": "code",
   "execution_count": 20,
   "id": "c79e6ef5",
   "metadata": {},
   "outputs": [
    {
     "name": "stdout",
     "output_type": "stream",
     "text": [
      "(4, 56, 56, 454, 65, 65, 67, 76)\n"
     ]
    },
    {
     "data": {
      "text/plain": [
       "843"
      ]
     },
     "execution_count": 20,
     "metadata": {},
     "output_type": "execute_result"
    }
   ],
   "source": [
    "add(4,56,56,454,65,65,67,76)"
   ]
  },
  {
   "cell_type": "code",
   "execution_count": 24,
   "id": "3a7d893c",
   "metadata": {},
   "outputs": [],
   "source": [
    "def multiply_all(factor , *sudh):\n",
    "    return  factor*sudh\n",
    "    "
   ]
  },
  {
   "cell_type": "code",
   "execution_count": 26,
   "id": "2d5137fb",
   "metadata": {},
   "outputs": [
    {
     "data": {
      "text/plain": [
       "(5, 6, 7, 8, 89, 9, 5, 6, 7, 8, 89, 9)"
      ]
     },
     "execution_count": 26,
     "metadata": {},
     "output_type": "execute_result"
    }
   ],
   "source": [
    "multiply_all(2,5,6,7,8,89,9)"
   ]
  },
  {
   "cell_type": "code",
   "execution_count": 34,
   "id": "12d9f79c",
   "metadata": {},
   "outputs": [],
   "source": [
    "def profile(**kwargs):\n",
    "    for i in kwargs.items():\n",
    "        print(i)"
   ]
  },
  {
   "cell_type": "code",
   "execution_count": 35,
   "id": "04bb3762",
   "metadata": {},
   "outputs": [],
   "source": [
    "profile()"
   ]
  },
  {
   "cell_type": "code",
   "execution_count": 36,
   "id": "ebd4bfc3",
   "metadata": {},
   "outputs": [
    {
     "name": "stdout",
     "output_type": "stream",
     "text": [
      "('name', 'sudh')\n",
      "('batch', 'python')\n"
     ]
    }
   ],
   "source": [
    "profile(name = \"sudh\",batch = \"python\")"
   ]
  },
  {
   "cell_type": "code",
   "execution_count": 38,
   "id": "2fd71e86",
   "metadata": {},
   "outputs": [],
   "source": [
    "def profile(comapany ,**kwargs):\n",
    "    for i in kwargs.items():\n",
    "        print(i,comapany)"
   ]
  },
  {
   "cell_type": "code",
   "execution_count": 41,
   "id": "093e0544",
   "metadata": {},
   "outputs": [
    {
     "name": "stdout",
     "output_type": "stream",
     "text": [
      "('name', 'sudh') euron\n"
     ]
    }
   ],
   "source": [
    "profile(\"euron\",name = \"sudh\")"
   ]
  },
  {
   "cell_type": "code",
   "execution_count": 43,
   "id": "ddaae6c6",
   "metadata": {},
   "outputs": [],
   "source": [
    "def mix_fun(*sudh,**euron):\n",
    "    return sudh,euron"
   ]
  },
  {
   "cell_type": "markdown",
   "id": "fce078e7",
   "metadata": {},
   "source": []
  },
  {
   "cell_type": "code",
   "execution_count": 44,
   "id": "f342cd8b",
   "metadata": {},
   "outputs": [
    {
     "data": {
      "text/plain": [
       "((), {})"
      ]
     },
     "execution_count": 44,
     "metadata": {},
     "output_type": "execute_result"
    }
   ],
   "source": [
    "mix_fun()"
   ]
  },
  {
   "cell_type": "code",
   "execution_count": 51,
   "id": "9ace720a",
   "metadata": {},
   "outputs": [
    {
     "data": {
      "text/plain": [
       "((4, 5, 6, 7, 4, 5, 65, 67, 'sudh'), {'name': 'sudh', 'age': 345})"
      ]
     },
     "execution_count": 51,
     "metadata": {},
     "output_type": "execute_result"
    }
   ],
   "source": [
    "mix_fun(4,5,6,7,4,5,65,67,\"sudh\",name = \"sudh\",age = 345)"
   ]
  },
  {
   "cell_type": "code",
   "execution_count": 54,
   "id": "dcfbff78",
   "metadata": {},
   "outputs": [],
   "source": [
    "def great(name,/):\n",
    "    print(f\"you are great  {name}\")"
   ]
  },
  {
   "cell_type": "code",
   "execution_count": 55,
   "id": "04e3ae12",
   "metadata": {},
   "outputs": [
    {
     "name": "stdout",
     "output_type": "stream",
     "text": [
      "you are great  sudh\n"
     ]
    }
   ],
   "source": [
    "great(\"sudh\")"
   ]
  },
  {
   "cell_type": "code",
   "execution_count": 56,
   "id": "83ae585e",
   "metadata": {},
   "outputs": [
    {
     "ename": "TypeError",
     "evalue": "great() got some positional-only arguments passed as keyword arguments: 'name'",
     "output_type": "error",
     "traceback": [
      "\u001b[31m---------------------------------------------------------------------------\u001b[39m",
      "\u001b[31mTypeError\u001b[39m                                 Traceback (most recent call last)",
      "\u001b[36mCell\u001b[39m\u001b[36m \u001b[39m\u001b[32mIn[56]\u001b[39m\u001b[32m, line 1\u001b[39m\n\u001b[32m----> \u001b[39m\u001b[32m1\u001b[39m \u001b[43mgreat\u001b[49m\u001b[43m(\u001b[49m\u001b[43mname\u001b[49m\u001b[43m \u001b[49m\u001b[43m=\u001b[49m\u001b[43m \u001b[49m\u001b[33;43m\"\u001b[39;49m\u001b[33;43msudh\u001b[39;49m\u001b[33;43m\"\u001b[39;49m\u001b[43m)\u001b[49m\n",
      "\u001b[31mTypeError\u001b[39m: great() got some positional-only arguments passed as keyword arguments: 'name'"
     ]
    }
   ],
   "source": [
    "great(name = \"sudh\")"
   ]
  },
  {
   "cell_type": "code",
   "execution_count": 57,
   "id": "b78c0104",
   "metadata": {},
   "outputs": [],
   "source": [
    "def great(name):\n",
    "    print(f\"you are great  {name}\")"
   ]
  },
  {
   "cell_type": "code",
   "execution_count": 58,
   "id": "2629b684",
   "metadata": {},
   "outputs": [
    {
     "name": "stdout",
     "output_type": "stream",
     "text": [
      "you are great  sudhanshu\n"
     ]
    }
   ],
   "source": [
    "great(name = \"sudhanshu\")"
   ]
  },
  {
   "cell_type": "code",
   "execution_count": 64,
   "id": "eb63dbc6",
   "metadata": {},
   "outputs": [],
   "source": [
    "def add(a,b,c,/):\n",
    "    return a+b+c"
   ]
  },
  {
   "cell_type": "code",
   "execution_count": 65,
   "id": "1ca7f182",
   "metadata": {},
   "outputs": [
    {
     "data": {
      "text/plain": [
       "15"
      ]
     },
     "execution_count": 65,
     "metadata": {},
     "output_type": "execute_result"
    }
   ],
   "source": [
    "add(4,5,6)"
   ]
  },
  {
   "cell_type": "code",
   "execution_count": 66,
   "id": "3950f6f2",
   "metadata": {},
   "outputs": [
    {
     "ename": "TypeError",
     "evalue": "add() got some positional-only arguments passed as keyword arguments: 'a, b, c'",
     "output_type": "error",
     "traceback": [
      "\u001b[31m---------------------------------------------------------------------------\u001b[39m",
      "\u001b[31mTypeError\u001b[39m                                 Traceback (most recent call last)",
      "\u001b[36mCell\u001b[39m\u001b[36m \u001b[39m\u001b[32mIn[66]\u001b[39m\u001b[32m, line 1\u001b[39m\n\u001b[32m----> \u001b[39m\u001b[32m1\u001b[39m \u001b[43madd\u001b[49m\u001b[43m(\u001b[49m\u001b[43mb\u001b[49m\u001b[43m \u001b[49m\u001b[43m=\u001b[49m\u001b[43m \u001b[49m\u001b[32;43m45\u001b[39;49m\u001b[43m,\u001b[49m\u001b[43m \u001b[49m\u001b[43ma\u001b[49m\u001b[43m \u001b[49m\u001b[43m=\u001b[49m\u001b[43m \u001b[49m\u001b[32;43m3\u001b[39;49m\u001b[43m,\u001b[49m\u001b[43mc\u001b[49m\u001b[43m \u001b[49m\u001b[43m=\u001b[49m\u001b[43m \u001b[49m\u001b[32;43m1\u001b[39;49m\u001b[43m)\u001b[49m\n",
      "\u001b[31mTypeError\u001b[39m: add() got some positional-only arguments passed as keyword arguments: 'a, b, c'"
     ]
    }
   ],
   "source": [
    "add(b = 45, a = 3,c = 1)"
   ]
  },
  {
   "cell_type": "code",
   "execution_count": 67,
   "id": "de362cc3",
   "metadata": {},
   "outputs": [],
   "source": [
    "def add(a,b,/,c):\n",
    "    return a+b+c"
   ]
  },
  {
   "cell_type": "code",
   "execution_count": 68,
   "id": "f61e6762",
   "metadata": {},
   "outputs": [],
   "source": [
    "def add(a,b,*,c):\n",
    "    return a+b+c"
   ]
  },
  {
   "cell_type": "code",
   "execution_count": 71,
   "id": "1ab1aa7a",
   "metadata": {},
   "outputs": [
    {
     "data": {
      "text/plain": [
       "15"
      ]
     },
     "execution_count": 71,
     "metadata": {},
     "output_type": "execute_result"
    }
   ],
   "source": [
    "add(b = 4,a = 5,c = 6)"
   ]
  },
  {
   "cell_type": "code",
   "execution_count": null,
   "id": "2fb065e5",
   "metadata": {},
   "outputs": [],
   "source": []
  }
 ],
 "metadata": {
  "kernelspec": {
   "display_name": "agentdemo",
   "language": "python",
   "name": "python3"
  },
  "language_info": {
   "codemirror_mode": {
    "name": "ipython",
    "version": 3
   },
   "file_extension": ".py",
   "mimetype": "text/x-python",
   "name": "python",
   "nbconvert_exporter": "python",
   "pygments_lexer": "ipython3",
   "version": "3.11.11"
  }
 },
 "nbformat": 4,
 "nbformat_minor": 5
}
