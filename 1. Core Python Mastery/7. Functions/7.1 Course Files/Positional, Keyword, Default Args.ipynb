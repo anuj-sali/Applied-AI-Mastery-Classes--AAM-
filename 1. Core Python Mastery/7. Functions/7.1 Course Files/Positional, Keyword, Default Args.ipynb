{
 "cells": [
  {
   "cell_type": "code",
   "execution_count": 4,
   "id": "31a88ea5",
   "metadata": {},
   "outputs": [],
   "source": [
    "def add(a,b):\n",
    "    print(a)\n",
    "    print(b)\n",
    "    return a+b"
   ]
  },
  {
   "cell_type": "code",
   "execution_count": 5,
   "id": "f70d686d",
   "metadata": {},
   "outputs": [
    {
     "name": "stdout",
     "output_type": "stream",
     "text": [
      "34\n",
      "45\n"
     ]
    },
    {
     "data": {
      "text/plain": [
       "79"
      ]
     },
     "execution_count": 5,
     "metadata": {},
     "output_type": "execute_result"
    }
   ],
   "source": [
    "add(34,45)"
   ]
  },
  {
   "cell_type": "code",
   "execution_count": 6,
   "id": "f25b3c33",
   "metadata": {},
   "outputs": [
    {
     "name": "stdout",
     "output_type": "stream",
     "text": [
      "345\n",
      "4545\n"
     ]
    },
    {
     "data": {
      "text/plain": [
       "4890"
      ]
     },
     "execution_count": 6,
     "metadata": {},
     "output_type": "execute_result"
    }
   ],
   "source": [
    "add(b = 4545, a = 345)"
   ]
  },
  {
   "cell_type": "code",
   "execution_count": 7,
   "id": "fba95bab",
   "metadata": {},
   "outputs": [],
   "source": [
    "def registration(name , maild_id,phone_no):\n",
    "    print(name,maild_id,phone_no)"
   ]
  },
  {
   "cell_type": "code",
   "execution_count": 8,
   "id": "3275c027",
   "metadata": {},
   "outputs": [
    {
     "name": "stdout",
     "output_type": "stream",
     "text": [
      "sudhanshu sudhanshu@euron.one 325454543\n"
     ]
    }
   ],
   "source": [
    "registration(\"sudhanshu\",\"sudhanshu@euron.one\",\"325454543\")"
   ]
  },
  {
   "cell_type": "code",
   "execution_count": 12,
   "id": "5851afc7",
   "metadata": {},
   "outputs": [
    {
     "name": "stdout",
     "output_type": "stream",
     "text": [
      "sudhanshu sudhanshu@euron.one 325454543\n"
     ]
    }
   ],
   "source": [
    "registration(maild_id=\"sudhanshu@euron.one\",name=\"sudhanshu\",phone_no=\"325454543\")"
   ]
  },
  {
   "cell_type": "code",
   "execution_count": 13,
   "id": "a908ce1a",
   "metadata": {},
   "outputs": [],
   "source": [
    "def registration(name, mail_id , phone_no , batch = \"python\"):\n",
    "    return name,mail_id,phone_no,batch"
   ]
  },
  {
   "cell_type": "code",
   "execution_count": 15,
   "id": "ec264035",
   "metadata": {},
   "outputs": [
    {
     "data": {
      "text/plain": [
       "('sudh', 'sudh@euron.one', 456456546, 'python with dsa')"
      ]
     },
     "execution_count": 15,
     "metadata": {},
     "output_type": "execute_result"
    }
   ],
   "source": [
    "registration(name = \"sudh\",mail_id= \"sudh@euron.one\",phone_no=456456546,batch=\"python with dsa\")"
   ]
  },
  {
   "cell_type": "code",
   "execution_count": null,
   "id": "e905eb5d",
   "metadata": {},
   "outputs": [],
   "source": []
  }
 ],
 "metadata": {
  "kernelspec": {
   "display_name": "agentdemo",
   "language": "python",
   "name": "python3"
  },
  "language_info": {
   "codemirror_mode": {
    "name": "ipython",
    "version": 3
   },
   "file_extension": ".py",
   "mimetype": "text/x-python",
   "name": "python",
   "nbconvert_exporter": "python",
   "pygments_lexer": "ipython3",
   "version": "3.11.11"
  }
 },
 "nbformat": 4,
 "nbformat_minor": 5
}
