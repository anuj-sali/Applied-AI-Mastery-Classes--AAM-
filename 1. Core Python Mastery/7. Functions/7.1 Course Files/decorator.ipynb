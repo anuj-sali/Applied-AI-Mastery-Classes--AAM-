{
 "cells": [
  {
   "cell_type": "code",
   "execution_count": 14,
   "id": "eb1b55d2",
   "metadata": {},
   "outputs": [],
   "source": [
    "def say_hi():\n",
    "    print(\"hi euron\")"
   ]
  },
  {
   "cell_type": "code",
   "execution_count": 15,
   "id": "36e45677",
   "metadata": {},
   "outputs": [
    {
     "name": "stdout",
     "output_type": "stream",
     "text": [
      "hi euron\n"
     ]
    }
   ],
   "source": [
    "say_hi()"
   ]
  },
  {
   "cell_type": "code",
   "execution_count": 17,
   "id": "1ac40593",
   "metadata": {},
   "outputs": [],
   "source": [
    "def decorator_func(func):\n",
    "    def wrapper():\n",
    "        print(\"you will be printed before function\")\n",
    "        func()\n",
    "        print(\"you will be printed after function call \")\n",
    "    return wrapper\n"
   ]
  },
  {
   "cell_type": "code",
   "execution_count": 18,
   "id": "7e2ef4b4",
   "metadata": {},
   "outputs": [],
   "source": [
    "@decorator_func\n",
    "def say_hi():\n",
    "    print(\"hi euron\")"
   ]
  },
  {
   "cell_type": "code",
   "execution_count": 19,
   "id": "eb500c86",
   "metadata": {},
   "outputs": [
    {
     "name": "stdout",
     "output_type": "stream",
     "text": [
      "you will be printed before function\n",
      "hi euron\n",
      "you will be printed after function call \n"
     ]
    }
   ],
   "source": [
    "say_hi()"
   ]
  },
  {
   "cell_type": "code",
   "execution_count": 20,
   "id": "f2b927f8",
   "metadata": {},
   "outputs": [],
   "source": [
    "import time\n",
    "\n",
    "def timer(func):\n",
    "    def wrapper(*args , **kwargs):\n",
    "        start = time.time()\n",
    "        result = func(*args,**kwargs)\n",
    "        print(\"time taken by this function is \",time.time() - start)\n",
    "        return  result\n",
    "    return wrapper\n",
    "        "
   ]
  },
  {
   "cell_type": "code",
   "execution_count": 25,
   "id": "6e91b7a0",
   "metadata": {},
   "outputs": [],
   "source": [
    "@timer\n",
    "def listparser(l):\n",
    "    time.sleep(1)\n",
    "    print(l)\n",
    "    for i in l :\n",
    "        print(i)\n",
    "        "
   ]
  },
  {
   "cell_type": "code",
   "execution_count": 26,
   "id": "7a5f8703",
   "metadata": {},
   "outputs": [
    {
     "name": "stdout",
     "output_type": "stream",
     "text": [
      "[4, 5, 56, 6, 7, 8, 8]\n",
      "4\n",
      "5\n",
      "56\n",
      "6\n",
      "7\n",
      "8\n",
      "8\n",
      "time taken by this function is  1.0010483264923096\n"
     ]
    }
   ],
   "source": [
    "listparser([4,5,56,6,7,8,8])"
   ]
  },
  {
   "cell_type": "code",
   "execution_count": 27,
   "id": "c1b391f2",
   "metadata": {},
   "outputs": [],
   "source": [
    "def decorator_func1(func):\n",
    "    def wrapper(*args , **kwargs):\n",
    "        print(\"you will be printed before function\")\n",
    "        func(*args , **kwargs)\n",
    "        print(\"you will be printed after function call \")\n",
    "    return wrapper"
   ]
  },
  {
   "cell_type": "code",
   "execution_count": 28,
   "id": "cdd2a2b4",
   "metadata": {},
   "outputs": [],
   "source": [
    "@timer\n",
    "@decorator_func1\n",
    "def listparser(l):\n",
    "    time.sleep(1)\n",
    "    print(l)\n",
    "    for i in l :\n",
    "        print(i)"
   ]
  },
  {
   "cell_type": "code",
   "execution_count": 29,
   "id": "ffbc2255",
   "metadata": {},
   "outputs": [
    {
     "name": "stdout",
     "output_type": "stream",
     "text": [
      "you will be printed before function\n",
      "[3, 4, 5, 6]\n",
      "3\n",
      "4\n",
      "5\n",
      "6\n",
      "you will be printed after function call \n",
      "time taken by this function is  1.0010395050048828\n"
     ]
    }
   ],
   "source": [
    "listparser([3,4,5,6,])"
   ]
  },
  {
   "cell_type": "code",
   "execution_count": null,
   "id": "ed68645b",
   "metadata": {},
   "outputs": [],
   "source": []
  }
 ],
 "metadata": {
  "kernelspec": {
   "display_name": "agentdemo",
   "language": "python",
   "name": "python3"
  },
  "language_info": {
   "codemirror_mode": {
    "name": "ipython",
    "version": 3
   },
   "file_extension": ".py",
   "mimetype": "text/x-python",
   "name": "python",
   "nbconvert_exporter": "python",
   "pygments_lexer": "ipython3",
   "version": "3.11.11"
  }
 },
 "nbformat": 4,
 "nbformat_minor": 5
}
