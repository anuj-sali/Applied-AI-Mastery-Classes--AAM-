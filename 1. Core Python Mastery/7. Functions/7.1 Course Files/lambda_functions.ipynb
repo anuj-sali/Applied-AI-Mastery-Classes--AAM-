{
 "cells": [
  {
   "cell_type": "code",
   "execution_count": null,
   "id": "8a4b4a71",
   "metadata": {},
   "outputs": [],
   "source": [
    "def add(a,b):\n",
    "    return a+b"
   ]
  },
  {
   "cell_type": "code",
   "execution_count": 3,
   "id": "ee25b3e7",
   "metadata": {},
   "outputs": [
    {
     "data": {
      "text/plain": [
       "9"
      ]
     },
     "execution_count": 3,
     "metadata": {},
     "output_type": "execute_result"
    }
   ],
   "source": [
    "add(4,5)"
   ]
  },
  {
   "cell_type": "code",
   "execution_count": 5,
   "id": "dddd4dd3",
   "metadata": {},
   "outputs": [],
   "source": [
    "c = lambda a,b :a+b"
   ]
  },
  {
   "cell_type": "code",
   "execution_count": 6,
   "id": "b57a8dc4",
   "metadata": {},
   "outputs": [
    {
     "data": {
      "text/plain": [
       "9"
      ]
     },
     "execution_count": 6,
     "metadata": {},
     "output_type": "execute_result"
    }
   ],
   "source": [
    "c(4,5)"
   ]
  },
  {
   "cell_type": "code",
   "execution_count": 7,
   "id": "2e0a0d08",
   "metadata": {},
   "outputs": [
    {
     "data": {
      "text/plain": [
       "<function __main__.<lambda>(a, b)>"
      ]
     },
     "execution_count": 7,
     "metadata": {},
     "output_type": "execute_result"
    }
   ],
   "source": [
    "c"
   ]
  },
  {
   "cell_type": "code",
   "execution_count": 8,
   "id": "c454e227",
   "metadata": {},
   "outputs": [],
   "source": [
    "square = lambda a : a**2 "
   ]
  },
  {
   "cell_type": "code",
   "execution_count": 9,
   "id": "60737ae0",
   "metadata": {},
   "outputs": [
    {
     "data": {
      "text/plain": [
       "36"
      ]
     },
     "execution_count": 9,
     "metadata": {},
     "output_type": "execute_result"
    }
   ],
   "source": [
    "square(6)"
   ]
  },
  {
   "cell_type": "code",
   "execution_count": 10,
   "id": "faa14497",
   "metadata": {},
   "outputs": [],
   "source": [
    "max = lambda a,b : a if a > b else b"
   ]
  },
  {
   "cell_type": "code",
   "execution_count": 11,
   "id": "242d899f",
   "metadata": {},
   "outputs": [
    {
     "data": {
      "text/plain": [
       "56"
      ]
     },
     "execution_count": 11,
     "metadata": {},
     "output_type": "execute_result"
    }
   ],
   "source": [
    "max(56,34)"
   ]
  },
  {
   "cell_type": "code",
   "execution_count": 12,
   "id": "b05a09ee",
   "metadata": {},
   "outputs": [],
   "source": [
    "even_odd = lambda number : \"even\" if number%2 == 0 else \"odd\""
   ]
  },
  {
   "cell_type": "code",
   "execution_count": 13,
   "id": "adae889f",
   "metadata": {},
   "outputs": [
    {
     "data": {
      "text/plain": [
       "'odd'"
      ]
     },
     "execution_count": 13,
     "metadata": {},
     "output_type": "execute_result"
    }
   ],
   "source": [
    "even_odd(45)"
   ]
  },
  {
   "cell_type": "code",
   "execution_count": 14,
   "id": "0e9f6edf",
   "metadata": {},
   "outputs": [
    {
     "data": {
      "text/plain": [
       "'even'"
      ]
     },
     "execution_count": 14,
     "metadata": {},
     "output_type": "execute_result"
    }
   ],
   "source": [
    "even_odd(6)"
   ]
  },
  {
   "cell_type": "code",
   "execution_count": null,
   "id": "cfd592e2",
   "metadata": {},
   "outputs": [],
   "source": []
  }
 ],
 "metadata": {
  "kernelspec": {
   "display_name": "agentdemo",
   "language": "python",
   "name": "python3"
  },
  "language_info": {
   "codemirror_mode": {
    "name": "ipython",
    "version": 3
   },
   "file_extension": ".py",
   "mimetype": "text/x-python",
   "name": "python",
   "nbconvert_exporter": "python",
   "pygments_lexer": "ipython3",
   "version": "3.11.11"
  }
 },
 "nbformat": 4,
 "nbformat_minor": 5
}
