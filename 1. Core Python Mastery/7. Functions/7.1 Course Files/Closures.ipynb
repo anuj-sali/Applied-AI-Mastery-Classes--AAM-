{
 "cells": [
  {
   "cell_type": "code",
   "execution_count": 4,
   "id": "b1a56d8b",
   "metadata": {},
   "outputs": [],
   "source": [
    "def outer_fun(a):\n",
    "    print(\"print the value of a \" ,a )\n",
    "    def inner_fun(b):\n",
    "        print(\"print the value of b\",b)\n",
    "        return a+b\n",
    "    return inner_fun"
   ]
  },
  {
   "cell_type": "code",
   "execution_count": 5,
   "id": "d2b30c8a",
   "metadata": {},
   "outputs": [
    {
     "name": "stdout",
     "output_type": "stream",
     "text": [
      "print the value of a  10\n"
     ]
    }
   ],
   "source": [
    "closure = outer_fun(10)"
   ]
  },
  {
   "cell_type": "code",
   "execution_count": 6,
   "id": "84fb277b",
   "metadata": {},
   "outputs": [
    {
     "data": {
      "text/plain": [
       "<function __main__.outer_fun.<locals>.inner_fun(b)>"
      ]
     },
     "execution_count": 6,
     "metadata": {},
     "output_type": "execute_result"
    }
   ],
   "source": [
    "closure"
   ]
  },
  {
   "cell_type": "code",
   "execution_count": 7,
   "id": "26718c22",
   "metadata": {},
   "outputs": [
    {
     "name": "stdout",
     "output_type": "stream",
     "text": [
      "print the value of b 5\n"
     ]
    },
    {
     "data": {
      "text/plain": [
       "15"
      ]
     },
     "execution_count": 7,
     "metadata": {},
     "output_type": "execute_result"
    }
   ],
   "source": [
    "closure(5)"
   ]
  },
  {
   "cell_type": "code",
   "execution_count": 8,
   "id": "031a2a38",
   "metadata": {},
   "outputs": [],
   "source": [
    "l = [4,5,[4,5]]"
   ]
  },
  {
   "cell_type": "code",
   "execution_count": 10,
   "id": "cb9a23ca",
   "metadata": {},
   "outputs": [
    {
     "data": {
      "text/plain": [
       "4"
      ]
     },
     "execution_count": 10,
     "metadata": {},
     "output_type": "execute_result"
    }
   ],
   "source": [
    "l[2][0]"
   ]
  },
  {
   "cell_type": "code",
   "execution_count": 11,
   "id": "32ea3341",
   "metadata": {},
   "outputs": [
    {
     "name": "stdout",
     "output_type": "stream",
     "text": [
      "print the value of b 89\n"
     ]
    },
    {
     "data": {
      "text/plain": [
       "99"
      ]
     },
     "execution_count": 11,
     "metadata": {},
     "output_type": "execute_result"
    }
   ],
   "source": [
    "closure(89)"
   ]
  },
  {
   "cell_type": "code",
   "execution_count": 13,
   "id": "10c52ce1",
   "metadata": {},
   "outputs": [
    {
     "name": "stdout",
     "output_type": "stream",
     "text": [
      "print the value of b 2\n"
     ]
    },
    {
     "data": {
      "text/plain": [
       "12"
      ]
     },
     "execution_count": 13,
     "metadata": {},
     "output_type": "execute_result"
    }
   ],
   "source": [
    "closure(2)"
   ]
  },
  {
   "cell_type": "code",
   "execution_count": 14,
   "id": "2fdcee9a",
   "metadata": {},
   "outputs": [],
   "source": [
    "def outer():\n",
    "    msg = \"hello remember this \"\n",
    "    def inner(name):\n",
    "        print(msg + name)\n",
    "    return inner"
   ]
  },
  {
   "cell_type": "code",
   "execution_count": 15,
   "id": "340c4241",
   "metadata": {},
   "outputs": [],
   "source": [
    "out = outer()"
   ]
  },
  {
   "cell_type": "code",
   "execution_count": 17,
   "id": "de9a8051",
   "metadata": {},
   "outputs": [
    {
     "name": "stdout",
     "output_type": "stream",
     "text": [
      "hello remember this sudhandhu\n"
     ]
    }
   ],
   "source": [
    "out(\"sudhandhu\")"
   ]
  },
  {
   "cell_type": "code",
   "execution_count": null,
   "id": "6f25d70f",
   "metadata": {},
   "outputs": [],
   "source": []
  }
 ],
 "metadata": {
  "kernelspec": {
   "display_name": "agentdemo",
   "language": "python",
   "name": "python3"
  },
  "language_info": {
   "codemirror_mode": {
    "name": "ipython",
    "version": 3
   },
   "file_extension": ".py",
   "mimetype": "text/x-python",
   "name": "python",
   "nbconvert_exporter": "python",
   "pygments_lexer": "ipython3",
   "version": "3.11.11"
  }
 },
 "nbformat": 4,
 "nbformat_minor": 5
}
