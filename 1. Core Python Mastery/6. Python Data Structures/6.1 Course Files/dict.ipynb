{
 "cells": [
  {
   "cell_type": "code",
   "execution_count": 1,
   "id": "36859db7",
   "metadata": {},
   "outputs": [],
   "source": [
    "d = {}"
   ]
  },
  {
   "cell_type": "code",
   "execution_count": 2,
   "id": "9c05a237",
   "metadata": {},
   "outputs": [
    {
     "data": {
      "text/plain": [
       "dict"
      ]
     },
     "execution_count": 2,
     "metadata": {},
     "output_type": "execute_result"
    }
   ],
   "source": [
    "type(d)"
   ]
  },
  {
   "cell_type": "code",
   "execution_count": 3,
   "id": "965f6bf8",
   "metadata": {},
   "outputs": [],
   "source": [
    "d = {\"345\":\"345345\"}"
   ]
  },
  {
   "cell_type": "code",
   "execution_count": 4,
   "id": "a252f6a4",
   "metadata": {},
   "outputs": [
    {
     "data": {
      "text/plain": [
       "{'345': '345345'}"
      ]
     },
     "execution_count": 4,
     "metadata": {},
     "output_type": "execute_result"
    }
   ],
   "source": [
    "d"
   ]
  },
  {
   "cell_type": "code",
   "execution_count": 5,
   "id": "10f31c55",
   "metadata": {},
   "outputs": [],
   "source": [
    "d = {\"name\":\"sudh\" ,\"email_id\":\"sudhanshu@euron.one\",\"subject\" : [\"data sceince\",\"big data \",\"dsa\"]}"
   ]
  },
  {
   "cell_type": "code",
   "execution_count": 7,
   "id": "4c3421ce",
   "metadata": {},
   "outputs": [
    {
     "data": {
      "text/plain": [
       "{'name': 'sudh',\n",
       " 'email_id': 'sudhanshu@euron.one',\n",
       " 'subject': ['data sceince', 'big data ', 'dsa']}"
      ]
     },
     "execution_count": 7,
     "metadata": {},
     "output_type": "execute_result"
    }
   ],
   "source": [
    "d"
   ]
  },
  {
   "cell_type": "code",
   "execution_count": 8,
   "id": "0e37f988",
   "metadata": {},
   "outputs": [],
   "source": [
    "d1 = {\"name\" :\"sudhanshu\"}"
   ]
  },
  {
   "cell_type": "code",
   "execution_count": 9,
   "id": "51b8a495",
   "metadata": {},
   "outputs": [],
   "source": [
    "d1 = {46456 :\"sudhanshu\"}"
   ]
  },
  {
   "cell_type": "code",
   "execution_count": 10,
   "id": "e6707a91",
   "metadata": {},
   "outputs": [],
   "source": [
    "d1 = {46456.4565 :\"sudhanshu\"}"
   ]
  },
  {
   "cell_type": "code",
   "execution_count": 11,
   "id": "40840edb",
   "metadata": {},
   "outputs": [],
   "source": [
    "d1 = {45+67j :\"sudhanshu\"}"
   ]
  },
  {
   "cell_type": "code",
   "execution_count": 12,
   "id": "80bb776e",
   "metadata": {},
   "outputs": [],
   "source": [
    "d1 = {(3,4,5) :\"sudhanshu\"}"
   ]
  },
  {
   "cell_type": "code",
   "execution_count": 13,
   "id": "79089f0e",
   "metadata": {},
   "outputs": [
    {
     "ename": "TypeError",
     "evalue": "unhashable type: 'list'",
     "output_type": "error",
     "traceback": [
      "\u001b[31m---------------------------------------------------------------------------\u001b[39m",
      "\u001b[31mTypeError\u001b[39m                                 Traceback (most recent call last)",
      "\u001b[36mCell\u001b[39m\u001b[36m \u001b[39m\u001b[32mIn[13]\u001b[39m\u001b[32m, line 1\u001b[39m\n\u001b[32m----> \u001b[39m\u001b[32m1\u001b[39m d1 = {[\u001b[32m4\u001b[39m,\u001b[32m5\u001b[39m,\u001b[32m6\u001b[39m] :\u001b[33m\"\u001b[39m\u001b[33msudhanshu\u001b[39m\u001b[33m\"\u001b[39m}\n",
      "\u001b[31mTypeError\u001b[39m: unhashable type: 'list'"
     ]
    }
   ],
   "source": [
    "d1 = {[4,5,6] :\"sudhanshu\"}"
   ]
  },
  {
   "cell_type": "code",
   "execution_count": 14,
   "id": "27ccba28",
   "metadata": {},
   "outputs": [
    {
     "ename": "SyntaxError",
     "evalue": "incomplete input (2701157310.py, line 1)",
     "output_type": "error",
     "traceback": [
      "  \u001b[36mCell\u001b[39m\u001b[36m \u001b[39m\u001b[32mIn[14]\u001b[39m\u001b[32m, line 1\u001b[39m\n\u001b[31m    \u001b[39m\u001b[31md1 = {#%^ :\"sudhanshu\"}\u001b[39m\n                           ^\n\u001b[31mSyntaxError\u001b[39m\u001b[31m:\u001b[39m incomplete input\n"
     ]
    }
   ],
   "source": [
    "d1 = {#%^ :\"sudhanshu\"}"
   ]
  },
  {
   "cell_type": "code",
   "execution_count": 15,
   "id": "86eca66e",
   "metadata": {},
   "outputs": [],
   "source": [
    "d1 = {\"#%%^\" :\"sudhanshu\"}"
   ]
  },
  {
   "cell_type": "code",
   "execution_count": 16,
   "id": "fc764807",
   "metadata": {},
   "outputs": [],
   "source": [
    "d1 = {\"name\":\"sudh\" ,\"name\":\"sudhanshu\"}"
   ]
  },
  {
   "cell_type": "code",
   "execution_count": 17,
   "id": "1efa36e0",
   "metadata": {},
   "outputs": [
    {
     "data": {
      "text/plain": [
       "{'name': 'sudhanshu'}"
      ]
     },
     "execution_count": 17,
     "metadata": {},
     "output_type": "execute_result"
    }
   ],
   "source": [
    "d1"
   ]
  },
  {
   "cell_type": "code",
   "execution_count": 18,
   "id": "75ef208a",
   "metadata": {},
   "outputs": [],
   "source": [
    "d2 = {\"sub\":[4,5,7,78,8]}"
   ]
  },
  {
   "cell_type": "code",
   "execution_count": 19,
   "id": "9667b945",
   "metadata": {},
   "outputs": [],
   "source": [
    "d2 = {\"sub\":23}"
   ]
  },
  {
   "cell_type": "code",
   "execution_count": 20,
   "id": "3c3eafdf",
   "metadata": {},
   "outputs": [],
   "source": [
    "d2 = {\"sub\":23.354}"
   ]
  },
  {
   "cell_type": "code",
   "execution_count": 21,
   "id": "3ae78bf1",
   "metadata": {},
   "outputs": [],
   "source": [
    "d2 = {\"sub\":True}"
   ]
  },
  {
   "cell_type": "code",
   "execution_count": 22,
   "id": "3ee340e8",
   "metadata": {},
   "outputs": [],
   "source": [
    "d2 = {\"sub\":3456+465j}"
   ]
  },
  {
   "cell_type": "code",
   "execution_count": 23,
   "id": "27cb51ca",
   "metadata": {},
   "outputs": [],
   "source": [
    "d2 = {\"sub\":\"sudh\"}"
   ]
  },
  {
   "cell_type": "code",
   "execution_count": 24,
   "id": "83bb3196",
   "metadata": {},
   "outputs": [],
   "source": [
    "d2 = {\"sub\":[4,5,6]}"
   ]
  },
  {
   "cell_type": "code",
   "execution_count": 25,
   "id": "be0b1d2f",
   "metadata": {},
   "outputs": [],
   "source": [
    "d2 = {\"sub\":(4,5,6,7)}"
   ]
  },
  {
   "cell_type": "code",
   "execution_count": 26,
   "id": "7f3741cc",
   "metadata": {},
   "outputs": [],
   "source": [
    "d2 = {\"sub\":{4,5,6,78,8}}"
   ]
  },
  {
   "cell_type": "code",
   "execution_count": 27,
   "id": "bf494e13",
   "metadata": {},
   "outputs": [],
   "source": [
    "d2 = {\"sub\":{\"name\":\"sudhanshu\"}}"
   ]
  },
  {
   "cell_type": "code",
   "execution_count": 28,
   "id": "3304dd88",
   "metadata": {},
   "outputs": [
    {
     "data": {
      "text/plain": [
       "{'name': 'sudh',\n",
       " 'email_id': 'sudhanshu@euron.one',\n",
       " 'subject': ['data sceince', 'big data ', 'dsa']}"
      ]
     },
     "execution_count": 28,
     "metadata": {},
     "output_type": "execute_result"
    }
   ],
   "source": [
    "d"
   ]
  },
  {
   "cell_type": "code",
   "execution_count": 29,
   "id": "328e22c6",
   "metadata": {},
   "outputs": [
    {
     "ename": "KeyError",
     "evalue": "0",
     "output_type": "error",
     "traceback": [
      "\u001b[31m---------------------------------------------------------------------------\u001b[39m",
      "\u001b[31mKeyError\u001b[39m                                  Traceback (most recent call last)",
      "\u001b[36mCell\u001b[39m\u001b[36m \u001b[39m\u001b[32mIn[29]\u001b[39m\u001b[32m, line 1\u001b[39m\n\u001b[32m----> \u001b[39m\u001b[32m1\u001b[39m \u001b[43md\u001b[49m\u001b[43m[\u001b[49m\u001b[32;43m0\u001b[39;49m\u001b[43m]\u001b[49m\n",
      "\u001b[31mKeyError\u001b[39m: 0"
     ]
    }
   ],
   "source": [
    "d[0]"
   ]
  },
  {
   "cell_type": "code",
   "execution_count": 30,
   "id": "59ba5202",
   "metadata": {},
   "outputs": [
    {
     "data": {
      "text/plain": [
       "'sudhanshu@euron.one'"
      ]
     },
     "execution_count": 30,
     "metadata": {},
     "output_type": "execute_result"
    }
   ],
   "source": [
    "d[\"email_id\"]"
   ]
  },
  {
   "cell_type": "code",
   "execution_count": 31,
   "id": "c85b0393",
   "metadata": {},
   "outputs": [
    {
     "data": {
      "text/plain": [
       "{'name': 'sudh',\n",
       " 'email_id': 'sudhanshu@euron.one',\n",
       " 'subject': ['data sceince', 'big data ', 'dsa']}"
      ]
     },
     "execution_count": 31,
     "metadata": {},
     "output_type": "execute_result"
    }
   ],
   "source": [
    "d"
   ]
  },
  {
   "cell_type": "code",
   "execution_count": 33,
   "id": "a7530ea0",
   "metadata": {},
   "outputs": [
    {
     "data": {
      "text/plain": [
       "'big data '"
      ]
     },
     "execution_count": 33,
     "metadata": {},
     "output_type": "execute_result"
    }
   ],
   "source": [
    "d['subject'][1]"
   ]
  },
  {
   "cell_type": "code",
   "execution_count": 34,
   "id": "e714756c",
   "metadata": {},
   "outputs": [
    {
     "data": {
      "text/plain": [
       "dict_keys(['name', 'email_id', 'subject'])"
      ]
     },
     "execution_count": 34,
     "metadata": {},
     "output_type": "execute_result"
    }
   ],
   "source": [
    "d.keys()"
   ]
  },
  {
   "cell_type": "code",
   "execution_count": 35,
   "id": "c3b51378",
   "metadata": {},
   "outputs": [
    {
     "data": {
      "text/plain": [
       "dict_values(['sudh', 'sudhanshu@euron.one', ['data sceince', 'big data ', 'dsa']])"
      ]
     },
     "execution_count": 35,
     "metadata": {},
     "output_type": "execute_result"
    }
   ],
   "source": [
    "d.values()"
   ]
  },
  {
   "cell_type": "code",
   "execution_count": 36,
   "id": "0fb5a7d7",
   "metadata": {},
   "outputs": [
    {
     "data": {
      "text/plain": [
       "dict_items([('name', 'sudh'), ('email_id', 'sudhanshu@euron.one'), ('subject', ['data sceince', 'big data ', 'dsa'])])"
      ]
     },
     "execution_count": 36,
     "metadata": {},
     "output_type": "execute_result"
    }
   ],
   "source": [
    "d.items()"
   ]
  },
  {
   "cell_type": "code",
   "execution_count": 37,
   "id": "ee7847cf",
   "metadata": {},
   "outputs": [
    {
     "data": {
      "text/plain": [
       "3"
      ]
     },
     "execution_count": 37,
     "metadata": {},
     "output_type": "execute_result"
    }
   ],
   "source": [
    "len(d)"
   ]
  },
  {
   "cell_type": "code",
   "execution_count": 38,
   "id": "60a64fdd",
   "metadata": {},
   "outputs": [
    {
     "data": {
      "text/plain": [
       "{'name': 'sudh',\n",
       " 'email_id': 'sudhanshu@euron.one',\n",
       " 'subject': ['data sceince', 'big data ', 'dsa']}"
      ]
     },
     "execution_count": 38,
     "metadata": {},
     "output_type": "execute_result"
    }
   ],
   "source": [
    "d"
   ]
  },
  {
   "cell_type": "code",
   "execution_count": 39,
   "id": "8bd5a6d9",
   "metadata": {},
   "outputs": [],
   "source": [
    "d[\"key\"] = [4,5,6,7]"
   ]
  },
  {
   "cell_type": "code",
   "execution_count": 40,
   "id": "4ebd79fa",
   "metadata": {},
   "outputs": [
    {
     "data": {
      "text/plain": [
       "{'name': 'sudh',\n",
       " 'email_id': 'sudhanshu@euron.one',\n",
       " 'subject': ['data sceince', 'big data ', 'dsa'],\n",
       " 'key': [4, 5, 6, 7]}"
      ]
     },
     "execution_count": 40,
     "metadata": {},
     "output_type": "execute_result"
    }
   ],
   "source": [
    "d"
   ]
  },
  {
   "cell_type": "code",
   "execution_count": 41,
   "id": "8008dce5",
   "metadata": {},
   "outputs": [],
   "source": [
    "d[\"key1\"] = [4,5,6,7]"
   ]
  },
  {
   "cell_type": "code",
   "execution_count": 42,
   "id": "074b0007",
   "metadata": {},
   "outputs": [
    {
     "data": {
      "text/plain": [
       "{'name': 'sudh',\n",
       " 'email_id': 'sudhanshu@euron.one',\n",
       " 'subject': ['data sceince', 'big data ', 'dsa'],\n",
       " 'key': [4, 5, 6, 7],\n",
       " 'key1': [4, 5, 6, 7]}"
      ]
     },
     "execution_count": 42,
     "metadata": {},
     "output_type": "execute_result"
    }
   ],
   "source": [
    "d"
   ]
  },
  {
   "cell_type": "code",
   "execution_count": 43,
   "id": "46590c8f",
   "metadata": {},
   "outputs": [],
   "source": [
    "d.update({\"key2\":(4,5,6,7)})"
   ]
  },
  {
   "cell_type": "code",
   "execution_count": 44,
   "id": "71ef004f",
   "metadata": {},
   "outputs": [
    {
     "data": {
      "text/plain": [
       "{'name': 'sudh',\n",
       " 'email_id': 'sudhanshu@euron.one',\n",
       " 'subject': ['data sceince', 'big data ', 'dsa'],\n",
       " 'key': [4, 5, 6, 7],\n",
       " 'key1': [4, 5, 6, 7],\n",
       " 'key2': (4, 5, 6, 7)}"
      ]
     },
     "execution_count": 44,
     "metadata": {},
     "output_type": "execute_result"
    }
   ],
   "source": [
    "d"
   ]
  },
  {
   "cell_type": "code",
   "execution_count": 45,
   "id": "85d7f494",
   "metadata": {},
   "outputs": [],
   "source": [
    "d.update({\"key2\":(4,5,6,7,8)})"
   ]
  },
  {
   "cell_type": "code",
   "execution_count": 46,
   "id": "daf97519",
   "metadata": {},
   "outputs": [
    {
     "data": {
      "text/plain": [
       "{'name': 'sudh',\n",
       " 'email_id': 'sudhanshu@euron.one',\n",
       " 'subject': ['data sceince', 'big data ', 'dsa'],\n",
       " 'key': [4, 5, 6, 7],\n",
       " 'key1': [4, 5, 6, 7],\n",
       " 'key2': (4, 5, 6, 7, 8)}"
      ]
     },
     "execution_count": 46,
     "metadata": {},
     "output_type": "execute_result"
    }
   ],
   "source": [
    "d"
   ]
  },
  {
   "cell_type": "code",
   "execution_count": 48,
   "id": "1dcad07f",
   "metadata": {},
   "outputs": [
    {
     "data": {
      "text/plain": [
       "[4, 5, 6, 7]"
      ]
     },
     "execution_count": 48,
     "metadata": {},
     "output_type": "execute_result"
    }
   ],
   "source": [
    "d.pop('key')"
   ]
  },
  {
   "cell_type": "code",
   "execution_count": 49,
   "id": "0cc4531f",
   "metadata": {},
   "outputs": [
    {
     "data": {
      "text/plain": [
       "{'name': 'sudh',\n",
       " 'email_id': 'sudhanshu@euron.one',\n",
       " 'subject': ['data sceince', 'big data ', 'dsa'],\n",
       " 'key1': [4, 5, 6, 7],\n",
       " 'key2': (4, 5, 6, 7, 8)}"
      ]
     },
     "execution_count": 49,
     "metadata": {},
     "output_type": "execute_result"
    }
   ],
   "source": [
    "d"
   ]
  },
  {
   "cell_type": "code",
   "execution_count": 50,
   "id": "a360f056",
   "metadata": {},
   "outputs": [
    {
     "data": {
      "text/plain": [
       "{'name': 'sudh',\n",
       " 'email_id': 'sudhanshu@euron.one',\n",
       " 'subject': ['data sceince', 'big data ', 'dsa'],\n",
       " 'key1': [4, 5, 6, 7],\n",
       " 'key2': (4, 5, 6, 7, 8)}"
      ]
     },
     "execution_count": 50,
     "metadata": {},
     "output_type": "execute_result"
    }
   ],
   "source": [
    "d"
   ]
  },
  {
   "cell_type": "code",
   "execution_count": 51,
   "id": "b8d08d9e",
   "metadata": {},
   "outputs": [
    {
     "name": "stdout",
     "output_type": "stream",
     "text": [
      "sudh\n",
      "sudhanshu@euron.one\n",
      "['data sceince', 'big data ', 'dsa']\n",
      "[4, 5, 6, 7]\n",
      "(4, 5, 6, 7, 8)\n"
     ]
    }
   ],
   "source": [
    "for i in d.keys():\n",
    "    print(d[i])\n",
    "    "
   ]
  },
  {
   "cell_type": "code",
   "execution_count": null,
   "id": "ea4c902e",
   "metadata": {},
   "outputs": [],
   "source": []
  }
 ],
 "metadata": {
  "kernelspec": {
   "display_name": "agentdemo",
   "language": "python",
   "name": "python3"
  },
  "language_info": {
   "codemirror_mode": {
    "name": "ipython",
    "version": 3
   },
   "file_extension": ".py",
   "mimetype": "text/x-python",
   "name": "python",
   "nbconvert_exporter": "python",
   "pygments_lexer": "ipython3",
   "version": "3.11.11"
  }
 },
 "nbformat": 4,
 "nbformat_minor": 5
}
